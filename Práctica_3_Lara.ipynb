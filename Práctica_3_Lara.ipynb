{
  "nbformat": 4,
  "nbformat_minor": 0,
  "metadata": {
    "colab": {
      "provenance": [],
      "toc_visible": true,
      "include_colab_link": true
    },
    "kernelspec": {
      "name": "python3",
      "display_name": "Python 3"
    },
    "language_info": {
      "name": "python"
    }
  },
  "cells": [
    {
      "cell_type": "markdown",
      "metadata": {
        "id": "view-in-github",
        "colab_type": "text"
      },
      "source": [
        "<a href=\"https://colab.research.google.com/github/LaraV15/tpfinal/blob/main/Pr%C3%A1ctica_3_Lara.ipynb\" target=\"_parent\"><img src=\"https://colab.research.google.com/assets/colab-badge.svg\" alt=\"Open In Colab\"/></a>"
      ]
    },
    {
      "cell_type": "markdown",
      "source": [
        "# Práctica 3: Algoritmos de Ordenamiento"
      ],
      "metadata": {
        "id": "7u24cwGnQTGB"
      }
    },
    {
      "cell_type": "code",
      "source": [
        "!pip install pytest"
      ],
      "metadata": {
        "id": "U3JF-b9GQTGN",
        "colab": {
          "base_uri": "https://localhost:8080/"
        },
        "outputId": "8111ace9-e652-43ea-8e2f-18b63d449ace"
      },
      "execution_count": null,
      "outputs": [
        {
          "output_type": "stream",
          "name": "stdout",
          "text": [
            "Looking in indexes: https://pypi.org/simple, https://us-python.pkg.dev/colab-wheels/public/simple/\n",
            "Requirement already satisfied: pytest in /usr/local/lib/python3.8/dist-packages (3.6.4)\n",
            "Requirement already satisfied: setuptools in /usr/local/lib/python3.8/dist-packages (from pytest) (57.4.0)\n",
            "Requirement already satisfied: six>=1.10.0 in /usr/local/lib/python3.8/dist-packages (from pytest) (1.15.0)\n",
            "Requirement already satisfied: atomicwrites>=1.0 in /usr/local/lib/python3.8/dist-packages (from pytest) (1.4.1)\n",
            "Requirement already satisfied: pluggy<0.8,>=0.5 in /usr/local/lib/python3.8/dist-packages (from pytest) (0.7.1)\n",
            "Requirement already satisfied: attrs>=17.4.0 in /usr/local/lib/python3.8/dist-packages (from pytest) (22.1.0)\n",
            "Requirement already satisfied: py>=1.5.0 in /usr/local/lib/python3.8/dist-packages (from pytest) (1.11.0)\n",
            "Requirement already satisfied: more-itertools>=4.0.0 in /usr/local/lib/python3.8/dist-packages (from pytest) (9.0.0)\n"
          ]
        }
      ]
    },
    {
      "cell_type": "markdown",
      "source": [
        "# Probando cosas de la teoría"
      ],
      "metadata": {
        "id": "IpXmtHFGZAWF"
      }
    },
    {
      "cell_type": "markdown",
      "source": [
        "Ordenamiento por selección"
      ],
      "metadata": {
        "id": "kIZiMPddZFnG"
      }
    },
    {
      "cell_type": "code",
      "source": [
        "\n",
        "def ordenar_por_seleccion(A): #A es una lista\n",
        "  n=len(A) #guardamos en n la cantidad de elementos a ordenar\n",
        "  min = None #guardamos el mínimo encontrado en cada iteración\n",
        "  pos = None #guardamos la posición donde se encuentra el mínimo\n",
        "  for i in range(n-1):\n",
        "    #Ordenamos el elemento en la posición i\n",
        "    min = A[i]\n",
        "    pos = i\n",
        "    for j in range(i, n):\n",
        "      if A[j] < min:\n",
        "        #Actualizamos los valores de min y pos\n",
        "        min = A[j]\n",
        "        pos = j\n",
        "    #Intercambiamos los valores en pos y en i\n",
        "    A[pos], A[i]=A[i], A[pos]\n",
        "\n",
        "B=[6,8,1,2,5,7,3]\n",
        "ordenar_por_seleccion(B)\n",
        "print(B)\n"
      ],
      "metadata": {
        "colab": {
          "base_uri": "https://localhost:8080/"
        },
        "id": "cph1bI_gY_2w",
        "outputId": "cafb6358-5e1d-4068-a97d-f8291871258d"
      },
      "execution_count": null,
      "outputs": [
        {
          "output_type": "stream",
          "name": "stdout",
          "text": [
            "[1, 2, 3, 5, 6, 7, 8]\n"
          ]
        }
      ]
    },
    {
      "cell_type": "markdown",
      "source": [
        "Ordenamiento por insercción"
      ],
      "metadata": {
        "id": "wIxvIFt5bgzh"
      }
    },
    {
      "cell_type": "code",
      "source": [
        "def ordenar_por_inserccion(A):\n",
        "  n=len(A) #guardamos en n la cantidad de elementos a ordenar\n",
        "  for i in range(1,n):\n",
        "    #Insertamos el elemento de la posición i\n",
        "    value=A[i] #arranca del segundo elemento \n",
        "    j=i-1 #la posición del primer elemento \n",
        "    while j>=0:\n",
        "      if value <A[j]:\n",
        "        #desplazamos el elemento de la posición j un lugar a la izq\n",
        "        A[j+1] = A[j]\n",
        "        j=j-1\n",
        "      else:\n",
        "        break\n",
        "    #Almacenamos el valor actual en el lugar que nos quedo disponible\n",
        "    A[j+1] = value\n",
        "\n",
        "B=[6,8,1,2,5,7,3]\n",
        "ordenar_por_inserccion(B)\n",
        "print(B)"
      ],
      "metadata": {
        "colab": {
          "base_uri": "https://localhost:8080/"
        },
        "id": "IkkuX-IIbkQ9",
        "outputId": "f17df495-b590-4dcc-af31-f2cb6e6d76b2"
      },
      "execution_count": null,
      "outputs": [
        {
          "output_type": "stream",
          "name": "stdout",
          "text": [
            "[1, 2, 3, 5, 6, 7, 8]\n"
          ]
        }
      ]
    },
    {
      "cell_type": "markdown",
      "source": [
        "Quicksort (elección del pivote a ciegas)"
      ],
      "metadata": {
        "id": "wUpZA8pnd9lN"
      }
    },
    {
      "cell_type": "code",
      "source": [
        "def elegir_pivote(A):\n",
        "  #Tecnica de elección a ciegas\n",
        "  #Elegimos el primer elemento de la sublista a ordenar\n",
        "  return A[0]\n",
        "\n",
        "def quicksort(A):\n",
        "  if len(A)<2:\n",
        "    #Caso base:listas trivialmente ordenadas\n",
        "    return A\n",
        "  \n",
        "  #Elegimos el pivote\n",
        "  pivote=elegir_pivote(A)\n",
        "  #Usamos las listas por compresión para\n",
        "  #obtener las sublistas que vamos a ordenar\n",
        "  menores=[x for x in A if x<pivote]\n",
        "  mayores=[x for x in A if x>pivote]\n",
        "  #Llamos recursivamente a cada lado\n",
        "  menores_ordenados =quicksort(menores)\n",
        "  mayores_ordenados = quicksort(mayores)\n",
        "  #Construimos la rta\n",
        "  return menores_ordenados + [pivote]+mayores_ordenados\n",
        "  \n",
        "B=[6,8,1,2,5,7,3]\n",
        "B=quicksort(B)\n",
        "print(B)"
      ],
      "metadata": {
        "colab": {
          "base_uri": "https://localhost:8080/"
        },
        "id": "Y6VlmNLBeYt7",
        "outputId": "4e6d1a59-af25-4eb2-d78a-d9eae93f3317"
      },
      "execution_count": null,
      "outputs": [
        {
          "output_type": "stream",
          "name": "stdout",
          "text": [
            "[1, 2, 3, 5, 6, 7, 8]\n"
          ]
        }
      ]
    },
    {
      "cell_type": "markdown",
      "source": [
        "#**Ejercicio 1**: \n",
        "Implementar una cola de prioridad que internamente mantenga los elementos ordenados utilizando ordenamiento por inserción"
      ],
      "metadata": {
        "id": "DE49vwGLUvLr"
      }
    },
    {
      "cell_type": "markdown",
      "source": [
        "![Captura de pantalla 2022-10-06 193239.png](data:image/png;base64,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)"
      ],
      "metadata": {
        "id": "gwhq15UIbgP9"
      }
    },
    {
      "cell_type": "code",
      "source": [
        "%%file test_priority_queue.py\n",
        "\n",
        "class PriorityQueue(): #los dos primeros métodos son como lo vimos en la unidad 1\n",
        "  def __init__ (self):\n",
        "    self.lista = []\n",
        "  \n",
        "  def isEmpty (self):\n",
        "    return self.lista == []\n",
        "  \n",
        "  def insert (self , item): \n",
        "    if len(self.lista) == 0:\n",
        "      self.lista.append(item)\n",
        "    else:\n",
        "      for i in range(len(self.lista)):\n",
        "        if item > self.lista[i]:\n",
        "          continue\n",
        "        else: \n",
        "          self.lista.insert(i,item)\n",
        "          return #para que no siga\n",
        "      self.lista.append(item)\n",
        "      \n",
        "    def __str__(self):\n",
        "      return f\"{self.lista}\"\n",
        "          \n",
        "#TEST\n",
        "def test_inserccion():\n",
        "  lista = PriorityQueue()\n",
        "  lista.insert(2)\n",
        "  lista.insert(0)\n",
        "  lista.insert(3)\n",
        "  assert lista.lista == [0,2,3]\n",
        "    "
      ],
      "metadata": {
        "id": "-cEbjdRqUvLr"
      },
      "execution_count": null,
      "outputs": []
    },
    {
      "cell_type": "code",
      "source": [
        "#cosas que voy probando\n",
        "a = []\n",
        "print(len(a))\n",
        "for i in range(5):\n",
        "  print(i)\n",
        "\n",
        "a = [1,2,3]\n",
        "a.insert(1,4) #(posición, elemento)\n",
        "print(a)"
      ],
      "metadata": {
        "id": "-R8y4kzocmsI"
      },
      "execution_count": null,
      "outputs": []
    },
    {
      "cell_type": "code",
      "source": [
        "!python -m pytest"
      ],
      "metadata": {
        "id": "OrK_cNjnUvLs"
      },
      "execution_count": null,
      "outputs": []
    },
    {
      "cell_type": "markdown",
      "source": [
        "Otra forma de hacer el insert"
      ],
      "metadata": {
        "id": "kMQOilLMgFcJ"
      }
    },
    {
      "cell_type": "code",
      "source": [
        "%%file test_priority_queue.py\n",
        "\n",
        "\n",
        "# OTRA FORMA (más corta)\n",
        "\n",
        "class PriorityQueue : #los dos primeros métodos son como lo vimos en la unidad 1\n",
        "  def __init__ (self, lista):\n",
        "    self.lista = lista\n",
        "  \n",
        "  def isEmpty (self):\n",
        "    return self.lista == []\n",
        "  \n",
        "  def insert (self , item): \n",
        "    if len(self.lista) == 0:\n",
        "      self.lista.append(item)\n",
        "    else:\n",
        "      for i in range(len(self.lista)):\n",
        "        if item < self.lista[i]:\n",
        "          self.lista.insert(i,item)\n",
        "          break #para que no siga     \n",
        "    "
      ],
      "metadata": {
        "id": "4FDVn1jEfrSE"
      },
      "execution_count": null,
      "outputs": []
    },
    {
      "cell_type": "markdown",
      "source": [
        "#**Ejercicio 2**: \n",
        "Escribir una función que verifique eficientemente si una lista está ordenada, utilícela para implementar _bogosort_:\n",
        "\n",
        "_**bogosort** es un algoritmo de ordenamiento que mezcla la lista al azar hasta que esté ordenada. Este método fue creado en broma por lo ineficiente que es._\n",
        "\n",
        "**Nota** Puede ser de utilidad la [funcion](https://docs.python.org/3/library/random.html#random.shuffle) `shuffle` del modulo `random`. \n",
        "\n",
        "Utilice bogosort para ordenar ```[1, 2, 3, 4, 5]``` y observe el tiempo que le toma."
      ],
      "metadata": {
        "id": "FsZox2SyaJuC"
      }
    },
    {
      "cell_type": "code",
      "source": [
        "%%file test_bogosort.py\n",
        "from random import shuffle\n",
        "\n",
        "\n",
        "def esta_ordenada(lista):\n",
        "  if len(lista) < 2: \n",
        "    return True #pues esta ordenada\n",
        "  for i in range(len(lista) - 1):\n",
        "    if lista[i] > lista[i + 1]:\n",
        "      return False\n",
        "  return True\n",
        "\n",
        "def bogosort(lista):\n",
        "  while not esta_ordenada(lista): #cuando de False lo convierte en True y entra al while\n",
        "    shuffle(lista)\n",
        "  return lista\n",
        "\n",
        "\n",
        "def test_bogosort():\n",
        "  myList = [2,1,3,5,4,7,6,8,9,10]\n",
        "  assert bogosort(myList) == [1,2,3,4,5,6,7,8,9,10]"
      ],
      "metadata": {
        "id": "vwFYbWdOaJuE",
        "colab": {
          "base_uri": "https://localhost:8080/"
        },
        "outputId": "86ff9880-e847-427c-935b-f4c3687f167b"
      },
      "execution_count": null,
      "outputs": [
        {
          "output_type": "stream",
          "name": "stdout",
          "text": [
            "Overwriting test_bogosort.py\n"
          ]
        }
      ]
    },
    {
      "cell_type": "code",
      "source": [
        "!python -m pytest"
      ],
      "metadata": {
        "id": "Kh9Pl6IbaJuE",
        "colab": {
          "base_uri": "https://localhost:8080/"
        },
        "outputId": "d1d81a24-5ed8-4937-b11d-e548e76f99fe"
      },
      "execution_count": null,
      "outputs": [
        {
          "output_type": "stream",
          "name": "stdout",
          "text": [
            "\u001b[1m============================= test session starts ==============================\u001b[0m\n",
            "platform linux -- Python 3.8.16, pytest-3.6.4, py-1.11.0, pluggy-0.7.1\n",
            "rootdir: /content, inifile:\n",
            "plugins: typeguard-2.7.1\n",
            "\u001b[1m\rcollecting 0 items                                                             \u001b[0m\u001b[1m\rcollecting 1 item                                                              \u001b[0m\u001b[1m\rcollected 1 item                                                               \u001b[0m\n",
            "\n",
            "test_bogosort.py .\u001b[36m                                                       [100%]\u001b[0m\n",
            "\n",
            "\u001b[32m\u001b[1m=========================== 1 passed in 5.37 seconds ===========================\u001b[0m\n"
          ]
        }
      ]
    },
    {
      "cell_type": "markdown",
      "source": [
        "#**Ejercicio 3**: \n",
        "Se les da una lista de números enteros. Determinar la cantidad de elementos únicos, o sea, la cantidad de elementos ignorando los repetidos.\n",
        "\n",
        "**Ayuda** puede ser de utilidad la estructura `set`.\n",
        "\n",
        "```\n",
        "[1, 5, 3, 3, 5, 1]\n",
        "# Salida: 3\n",
        "```\n",
        "\n",
        "Resolver de forma eficiente: que sea capaz de computar la solución para una lista de 10000 elementos en aproximádamente un segundo."
      ],
      "metadata": {
        "id": "5HgJQ3dtYXy8"
      }
    },
    {
      "cell_type": "code",
      "source": [
        "%%file test_distinct_numbers.py\n",
        "import random\n",
        "\n",
        "\n",
        "def distinct(lista):\n",
        "  lista = sorted(lista)\n",
        "  unicos = 0\n",
        "  actual = None\n",
        "# [1, 5, 3, 3, 5, 1] ---> [1, 1, 3, 3, 5, 5]\n",
        "  for elemento in lista:\n",
        "    if actual != elemento:\n",
        "      unicos += 1\n",
        "      actual = elemento\n",
        "  return unicos\n",
        "\n",
        "def test_distinct():\n",
        "  myList = [1]\n",
        "  assert distinct(myList) == 1\n",
        "  myList = [1, 1]\n",
        "  assert distinct(myList) == 1\n",
        "  myList = [1, 5, 3, 3, 5, 1]\n",
        "  assert distinct(myList) == 3\n",
        "  myList = list(range(1,10000)) #crea una lista del 1, al 9999\n",
        "  random.shuffle(myList)\n",
        "  assert distinct(myList) == 9999\n",
        "  myList = [random.choice([1,2,3,4]) for x in range(10000)]\n",
        "  assert distinct(myList) == 4\n"
      ],
      "metadata": {
        "id": "Jc-12pAhYXy-",
        "colab": {
          "base_uri": "https://localhost:8080/"
        },
        "outputId": "8033c983-cb7b-4555-c470-f92ac50dd2a3"
      },
      "execution_count": null,
      "outputs": [
        {
          "output_type": "stream",
          "name": "stdout",
          "text": [
            "Writing test_distinct_numbers.py\n"
          ]
        }
      ]
    },
    {
      "cell_type": "code",
      "source": [
        "!python -m pytest"
      ],
      "metadata": {
        "id": "L88DboVnYXy_",
        "colab": {
          "base_uri": "https://localhost:8080/"
        },
        "outputId": "9f4cebfa-e0fb-4d2d-d766-4727c105dd8a"
      },
      "execution_count": null,
      "outputs": [
        {
          "output_type": "stream",
          "name": "stdout",
          "text": [
            "\u001b[1m============================= test session starts ==============================\u001b[0m\n",
            "platform linux -- Python 3.8.16, pytest-3.6.4, py-1.11.0, pluggy-0.7.1\n",
            "rootdir: /content, inifile:\n",
            "plugins: typeguard-2.7.1\n",
            "\u001b[1m\rcollecting 0 items                                                             \u001b[0m\u001b[1m\rcollecting 1 item                                                              \u001b[0m\u001b[1m\rcollecting 2 items                                                             \u001b[0m\u001b[1m\rcollected 2 items                                                              \u001b[0m\n",
            "\n",
            "test_bogosort.py .\u001b[36m                                                       [ 50%]\u001b[0m\n",
            "test_distinct_numbers.py .\u001b[36m                                               [100%]\u001b[0m\n",
            "\n",
            "\u001b[32m\u001b[1m========================== 2 passed in 62.35 seconds ===========================\u001b[0m\n"
          ]
        }
      ]
    },
    {
      "cell_type": "code",
      "source": [
        "#Probando cosas\n",
        "listaPrueba = list(range(1,10))\n",
        "print(listaPrueba)\n"
      ],
      "metadata": {
        "colab": {
          "base_uri": "https://localhost:8080/"
        },
        "id": "M-evh4tePMkJ",
        "outputId": "b6bd9453-e567-4522-f7df-49c35eed3ede"
      },
      "execution_count": null,
      "outputs": [
        {
          "output_type": "stream",
          "name": "stdout",
          "text": [
            "[1, 2, 3, 4, 5, 6, 7, 8, 9]\n"
          ]
        }
      ]
    },
    {
      "cell_type": "markdown",
      "source": [
        "#**Ejercicio 4**: \n",
        "Reescribir quicksort para que tenga un parámetro más: una función de comparación. La función de comparación es aquella que, dados dos elementos de la lista, devuelve True si el primero debería ir antes, o False si el segundo debería ir antes."
      ],
      "metadata": {
        "id": "8zlXHvPOZWKV"
      }
    },
    {
      "cell_type": "code",
      "source": [
        "#Esto es el método quicksort tradicional\n",
        "\n",
        "#elección a ciegas\n",
        "\n",
        "def elegir_pivot(lista):\n",
        "  return lista[0] #Elegimos el primer elemento como pivote\n",
        "\n",
        "def quicksort(lista):\n",
        "  if len(lista) <2:\n",
        "    return lista #si tiene menos de dos elementos ya esta ordenada\n",
        "\n",
        "  pivot = elegir_pivot(lista)\n",
        "  menores = [x for x in lista if x< pivot]\n",
        "  mayores =[x for x in lista if x> pivot]\n",
        "\n",
        "  return quicksort(menores) + pivot + quicksort(mayores)"
      ],
      "metadata": {
        "id": "ogNp0tjNXUSN"
      },
      "execution_count": null,
      "outputs": []
    },
    {
      "cell_type": "code",
      "source": [
        "!python -m pytest"
      ],
      "metadata": {
        "id": "EzXGPqG1ZWKW"
      },
      "execution_count": null,
      "outputs": []
    },
    {
      "cell_type": "markdown",
      "source": [
        "**Hecho en clase**"
      ],
      "metadata": {
        "id": "W_z-5vzOVdH3"
      }
    },
    {
      "cell_type": "code",
      "source": [
        "%%file test_higher_order_quicksort.py\n",
        "from random import randint\n",
        "# eleccion a ciegas\n",
        "def elegir_pivot(lista):\n",
        "  return lista[0]\n",
        "\n",
        "# def quicksort(lista):\n",
        "#   if len(lista) < 2:\n",
        "#     return lista\n",
        "  \n",
        "#   pivot = elegir_pivot(lista)\n",
        "#   menores = [x for x in lista if x < pivot]\n",
        "#   mayores = [x for x in lista if x > pivot]\n",
        "\n",
        "#   return quicksort(menores) + [pivot] + quicksort(mayores)\n",
        "\n",
        "def cmp(a,b):\n",
        "  if a < b:\n",
        "    return -1\n",
        "  if a == b:\n",
        "    return 0\n",
        "  else:\n",
        "    return 1\n",
        "\n",
        "\n",
        "def quicksort(lista, compare):\n",
        "  if len(lista) < 2:\n",
        "    return lista\n",
        "  \n",
        "  pivot = elegir_pivot(lista)\n",
        "  menores = [x for x in lista if compare(x,pivot) == -1]\n",
        "  mayores = [x for x in lista if compare(x,pivot) == 1] # TODO: cambiar condicion por >= 0 y ver que pasa\n",
        "\n",
        "  return (quicksort(menores, compare) + [pivot] + quicksort(mayores, compare))\n",
        "\n",
        "'''\n",
        "QUICKSORT CON DUPLICADOS - UTIL PARA EJERCICIO 10\n",
        "Para mantener los duplicados, agregamos la condicion <= o >= para agregarlos \n",
        "a la sublista de menores o mayores respectivamente.\n",
        "En este caso agregamos los duplicados a la lista de menores.\n",
        "Como no tenemos un identificador único para nuestros elementos, si trabajamos\n",
        "unicamente con el valor del pivot, no podriamos distinguirlo y lo estariamos \n",
        "agregando a la lista de menores (provocando una recursion infinita).\n",
        "La condicion \"and index != pivotIndex\" evita que agreguemos el pivot a la lista.\n",
        "'''\n",
        "\n",
        "def quicksortDuplicates(lista, compare):\n",
        "  if len(lista) < 2:\n",
        "    return lista\n",
        "\n",
        "  pivotIndex = 0 # mantengo la eleccion de pivot a ciegas\n",
        "  # pivotIndex = randint(0, len(lista) - 1) # eleccion de pivot al azar\n",
        "  pivot = lista[pivotIndex]\n",
        "  menores = [x for index,x in enumerate(lista) if compare(x,pivot) <= 0 and index != pivotIndex] # and i != pivotIndex --> esta condicion es la que evita la recursion inf\n",
        "  mayores = [x for x in lista if compare(x,pivot) == 1]\n",
        "\n",
        "  return quicksortDuplicates(menores, compare) + [pivot] + quicksortDuplicates(mayores, compare)\n",
        "\n",
        "def quicksortDuplicates(lista, compare):\n",
        "  if len(lista) < 2:\n",
        "    return lista\n",
        "\n",
        "  pivot = elegir_pivot(lista)\n",
        "  menores = [x for index,x in enumerate(lista) if compare(x,pivot) == -1] \n",
        "  mayores = [x for x in lista if compare(x,pivot) == 1]\n",
        "  igualesPivot = [x for x in lista if compare(x,pivot) == 0]\n",
        "\n",
        "  return quicksortDuplicates(menores, compare) + igualesPivot + quicksortDuplicates(mayores, compare)\n",
        "\n",
        "\n",
        "def test_quicksort():\n",
        "  myList = [2,6,20,5,4,3,1,9]\n",
        "  assert quicksort(myList,cmp) == [1,2,3,4,5,6,9,20]\n",
        "  myList = [2,6,20,5,2,4,3,20,1,9]\n",
        "  assert quicksortDuplicates(myList, cmp) == [1,2,2,3,4,5,6,9,20,20]\n"
      ],
      "metadata": {
        "id": "KcDkfvIIVfH4"
      },
      "execution_count": null,
      "outputs": []
    },
    {
      "cell_type": "markdown",
      "source": [
        "#**Ejercicio 5**: \n",
        "Se tiene la clase de tiempo mostrada a continuación, almacena horas, minutos y segundos:\n",
        "```python\n",
        "class Time:\n",
        "  def __init__(self, hh, mm, ss):\n",
        "    self.hh = hh\n",
        "    self.mm = mm\n",
        "    self.ss = ss\n",
        "```\n",
        "Definir los operadores relacionales necesarios para poder ordenar una lista de tiempos utilizando uno de los algoritmos generalizados."
      ],
      "metadata": {
        "id": "3OfECfbYQTGO"
      }
    },
    {
      "cell_type": "code",
      "source": [
        "%%file test_time_sort.py\n",
        "\n",
        "class Time:\n",
        "  def __init__(self, hh, mm, ss):\n",
        "    self.hh = hh\n",
        "    self.mm = mm\n",
        "    self.ss = ss\n",
        "  \n",
        "  def __str__(self):\n",
        "    return f\"{self.__formatTime(self.hh)}:{self.mm}:{self.ss}\"\n",
        "\n",
        "#esta función para que me agrege un cero, si las hh, min o seg tiene un sólo dígito\n",
        "  def __formatTime(self,num):\n",
        "    return f\"{num}\" if num >9 else f\"0{num}\"\n",
        "\n",
        "def compare(a,b):\n",
        "  if a.hh < b.hh:\n",
        "    return -1\n",
        "  if a.hh == b.hh and a.mm == b.mm and a.ss == b.ss:\n",
        "    return 0\n",
        "  if a.hh > b.hh:\n",
        "    return 1\n",
        "  #si no entro a ninguno de los if\n",
        "  #significa que a.hh == b.hh pero min y/o seg son iguales\n",
        "  if a.mm < b.mm:\n",
        "    return -1\n",
        "  if a.mm > b.mm:\n",
        "    return 1\n",
        "  #si llego acá es porque los minutos son iguales\n",
        "  #pero los segundos no\n",
        "  if a.ss < b.ss:\n",
        "    return -1\n",
        "  else: \n",
        "    return 1\n",
        "\n",
        "def elegir_pivot(lista):\n",
        "  return lista[0]\n",
        "\n",
        "def quicksort(lista, compare):\n",
        "  if len(lista) < 2:\n",
        "    return lista\n",
        "  \n",
        "  pivot = elegir_pivot(lista)\n",
        "  menores = [x for x in lista if compare(x,pivot) == -1]\n",
        "  mayores = [x for x in lista if compare(x,pivot) == 1] \n",
        "\n",
        "  return (quicksort(menores, compare) + [pivot] + quicksort(mayores, compare))\n",
        "\n",
        "def test_time_sort():\n",
        "  time1 = Time(13,7,59)\n",
        "  time2 = Time(15,1,32)\n",
        "  time3 = Time(13,6,59)\n",
        "  myList = [time1, time2, time3]\n",
        "  assert quicksort(myList, compare) == [time3, time1, time2]\n",
        "\n",
        "\n",
        "myList = [Time(13,7,59), Time(15,1,32), Time(13,6,59)]\n",
        "myList = quicksort(myList, compare)\n",
        "for tiempo in myList:\n",
        "  print(tiempo)"
      ],
      "metadata": {
        "id": "Zq2V9ms5QTGP",
        "colab": {
          "base_uri": "https://localhost:8080/"
        },
        "outputId": "86b4c03d-0746-4667-d1e8-214391033687"
      },
      "execution_count": null,
      "outputs": [
        {
          "output_type": "stream",
          "name": "stdout",
          "text": [
            "Overwriting test_time_sort.py\n"
          ]
        }
      ]
    },
    {
      "cell_type": "code",
      "source": [
        "!python -m pytest"
      ],
      "metadata": {
        "id": "-dRZUofXQTGS",
        "colab": {
          "base_uri": "https://localhost:8080/"
        },
        "outputId": "01a44a1f-15b4-4490-903f-4f79e081bc00"
      },
      "execution_count": null,
      "outputs": [
        {
          "output_type": "stream",
          "name": "stdout",
          "text": [
            "\u001b[1m============================= test session starts ==============================\u001b[0m\n",
            "platform linux -- Python 3.8.16, pytest-3.6.4, py-1.11.0, pluggy-0.7.1\n",
            "rootdir: /content, inifile:\n",
            "plugins: typeguard-2.7.1\n",
            "\u001b[1m\rcollecting 0 items                                                             \u001b[0m\u001b[1m\rcollecting 1 item                                                              \u001b[0m\u001b[1m\rcollected 1 item                                                               \u001b[0m\n",
            "\n",
            "test_time_sort.py .\u001b[36m                                                      [100%]\u001b[0m\n",
            "\n",
            "\u001b[32m\u001b[1m=========================== 1 passed in 0.02 seconds ===========================\u001b[0m\n"
          ]
        }
      ]
    },
    {
      "cell_type": "markdown",
      "source": [
        "#**Ejercicio 6**: \n",
        "Quicksort es lento en un caso muy particular ¿Se le ocurre algún método para solucionar, o subsanar el problema? Impleméntelo y pruebe si el peor caso mejora"
      ],
      "metadata": {
        "id": "VAV9CYH2bRfC"
      }
    },
    {
      "cell_type": "code",
      "source": [
        "%%file test_quicksort_fix.py\n",
        "import random\n",
        "\n",
        "#Mal rendimiento cdo el pivote es el mayor o el menor de la lista\n",
        "\n",
        "# Elección a ciegas\n",
        "def elegir_pivote(lista):\n",
        "  return lista[0]\n",
        "\n",
        "#Elección al azar\n",
        "def elegir_pivote_dos(lista):\n",
        "  return random.choice(lista)\n",
        "\n",
        "#Elección Calculada (elemento del medio)\n",
        "def elegir_pivote_tres(lista):\n",
        "  #tarea / consulta\n",
        "  return\n",
        "\n",
        "#Elección El mejor de tres (mejor opción)\n",
        "def elegir_pivote_cuatro(lista):\n",
        "  #deberiamos chequear el temaño de la lista\n",
        "  listaAux = sorted([lista[0], lista[1], lista[-1]])\n",
        "  return listaAux[1]\n"
      ],
      "metadata": {
        "id": "CzNYQ6F3bRfD",
        "colab": {
          "base_uri": "https://localhost:8080/"
        },
        "outputId": "f0d6816f-27ef-4911-b7dc-f7f2ce7272b3"
      },
      "execution_count": null,
      "outputs": [
        {
          "output_type": "stream",
          "name": "stdout",
          "text": [
            "Writing test_quicksort_fix.py\n"
          ]
        }
      ]
    },
    {
      "cell_type": "code",
      "source": [
        "!python -m pytest"
      ],
      "metadata": {
        "id": "PYuwS39RbRfE"
      },
      "execution_count": null,
      "outputs": []
    },
    {
      "cell_type": "markdown",
      "source": [
        "#**Ejercicio 7**: \n",
        "Implemente un algoritmo de ordenamiento mixto, que cuando hayan mucho elementos utilice quicksort, y que use otro método en otro caso. Elija la cantidad de elementos para la cual hacer el cambio. Esperamos que el algoritmo sea rápido para listas de cualquier tamaño. Compare el tiempo de quicksort normal con este método mixto."
      ],
      "metadata": {
        "id": "MuoH7378gsgH"
      }
    },
    {
      "cell_type": "code",
      "source": [
        "%%file test_mixed_sort.py\n",
        "import random\n",
        "\n",
        "def elegir_pivot(lista):\n",
        "  return lista[0]\n",
        "\n",
        "def quicksort(lista):\n",
        "  if len(lista) <2:\n",
        "    return lista\n",
        "\n",
        "  pivot = elegir_pivot(lista)\n",
        "  menores = [x for x in lista if x< pivot]\n",
        "  mayores =[x for x in lista if x> pivot]\n",
        "\n",
        "  return quicksort(menores) + [pivot] + quicksort(mayores)\n",
        "\n",
        "def ordenar_por_insercion(lista):\n",
        "  # Guardamos en n la cantidad de elementos a ordenar\n",
        "  n=len(lista)\n",
        "  for i in range (1,n):\n",
        "  # Insertamos el elemento en la posición i\n",
        "    value = lista[i]\n",
        "    j = i-1\n",
        "    while j >= 0:\n",
        "      if value < lista[j]:\n",
        "      # Desplazamos el elemento en la posicion j\n",
        "      # un lugar a la izquierda \n",
        "        lista[j+1], lista[j] = lista[j], lista[j+1]\n",
        "        j = j - 1\n",
        "      else:\n",
        "        break\n",
        "# Almacenamos el valor actual en el lugar que nos quedo disponible\n",
        "    lista[j+1] = value\n",
        "  return lista\n",
        "\n",
        "def mixed_sort(lista):\n",
        "  if len(lista)>100:\n",
        "    lista = quicksort(lista)\n",
        "  else:\n",
        "    lista = ordenar_por_insercion(lista)\n",
        "\n",
        "  return lista\n",
        "\n",
        "def test_mixed_sort():\n",
        "  miLista = [8,4,8,7,5,6,1,5]\n",
        "  lista_ordenada = mixed_sort(miLista)\n",
        "  assert lista_ordenada == [1,4,5,5,6,7,8,8]\n",
        "  miLista_uno=list(range(1,200))\n",
        "  random.shuffle(miLista_uno)\n",
        "  miLista_uno_ordenada=mixed_sort(miLista_uno)\n",
        "  assert miLista_uno_ordenada == list(range(1,200))"
      ],
      "metadata": {
        "id": "yrZUL8yggsgH",
        "colab": {
          "base_uri": "https://localhost:8080/"
        },
        "outputId": "f44badbc-f039-44fe-9be0-d668a2bdaf88"
      },
      "execution_count": null,
      "outputs": [
        {
          "output_type": "stream",
          "name": "stdout",
          "text": [
            "Writing test_mixed_sort.py\n"
          ]
        }
      ]
    },
    {
      "cell_type": "code",
      "source": [
        "!python -m pytest"
      ],
      "metadata": {
        "id": "CvcD8QbLgsgH",
        "colab": {
          "base_uri": "https://localhost:8080/"
        },
        "outputId": "79e2c1db-223b-4c83-e211-5a249cd27ed5"
      },
      "execution_count": null,
      "outputs": [
        {
          "output_type": "stream",
          "name": "stdout",
          "text": [
            "\u001b[1m============================= test session starts ==============================\u001b[0m\n",
            "platform linux -- Python 3.7.15, pytest-3.6.4, py-1.11.0, pluggy-0.7.1\n",
            "rootdir: /content, inifile:\n",
            "plugins: typeguard-2.7.1\n",
            "\u001b[1m\rcollecting 0 items                                                             \u001b[0m\u001b[1m\rcollecting 1 item                                                              \u001b[0m\u001b[1m\rcollected 1 item                                                               \u001b[0m\n",
            "\n",
            "test_mixed_sort.py .\u001b[36m                                                     [100%]\u001b[0m\n",
            "\n",
            "\u001b[32m\u001b[1m=========================== 1 passed in 0.02 seconds ===========================\u001b[0m\n"
          ]
        }
      ]
    },
    {
      "cell_type": "code",
      "source": [
        "#Probando cosas\n",
        "\n",
        "import random\n",
        "\n",
        "a = list(range(1,10))\n",
        "\n",
        "print(a==list(range(1,10)))\n",
        "print(a)\n",
        "random.shuffle(a)\n",
        "\n",
        "print(a)\n"
      ],
      "metadata": {
        "colab": {
          "base_uri": "https://localhost:8080/"
        },
        "id": "p9rZsqhSeMO9",
        "outputId": "cade10b9-533f-4ff3-f059-6514bd09af76"
      },
      "execution_count": null,
      "outputs": [
        {
          "output_type": "stream",
          "name": "stdout",
          "text": [
            "True\n",
            "[1, 2, 3, 4, 5, 6, 7, 8, 9]\n",
            "[4, 5, 7, 9, 6, 3, 1, 2, 8]\n"
          ]
        }
      ]
    },
    {
      "cell_type": "markdown",
      "source": [
        "#**Ejercicio 8**: \n",
        "Medir el tiempo de los algoritmos de ordenamiento vistos en clase a medida que incrementamos la cantidad de elementos. Para esto, usaremos\n",
        "\n",
        "```python\n",
        "from time import time\n",
        "from random import shuffle\n",
        "\n",
        "# N y B a elección\n",
        "\n",
        "tiempos = []\n",
        "for i in range(N):\n",
        "  \n",
        "  lista = list(range(B * i))\n",
        "  \n",
        "  shuffle(lista)\n",
        "  \n",
        "  inicial = time()\n",
        "  ordenar(lista)\n",
        "  final = time()\n",
        "  \n",
        "  tiempos.append(final - inicial)\n",
        "```\n",
        "\n",
        "Repetir para cada método de ordenamiento y graficar los tiempos usando _pyplot_, comparar cada algoritmo.\n",
        "\n",
        "¿Cuál es el peor caso de cada algoritmo?\n",
        "\n",
        "Repetir la experiencia, pero siempre produciendo la peor entrada posible para cada algoritmo."
      ],
      "metadata": {
        "id": "rLnMHKu3VFcY"
      }
    },
    {
      "cell_type": "code",
      "source": [
        "from time import time\n",
        "from random import shuffle\n",
        "\n",
        "N=100\n",
        "\n",
        "tiempos = []\n",
        "for i in range(N):\n",
        "  lista = list(range(B * i))\n",
        "  shuffle(lista)\n",
        "  \n",
        "  inicial = time()\n",
        "  ordenar(lista)\n",
        "  final = time()\n",
        "  \n",
        "  tiempos.append(final - inicial)\n"
      ],
      "metadata": {
        "colab": {
          "base_uri": "https://localhost:8080/",
          "height": 235
        },
        "id": "WF3MjMVh656r",
        "outputId": "d1604c4e-fc2a-481e-f141-098af6b8e2b0"
      },
      "execution_count": null,
      "outputs": [
        {
          "output_type": "error",
          "ename": "NameError",
          "evalue": "ignored",
          "traceback": [
            "\u001b[0;31m---------------------------------------------------------------------------\u001b[0m",
            "\u001b[0;31mNameError\u001b[0m                                 Traceback (most recent call last)",
            "\u001b[0;32m<ipython-input-4-b66633fdcdfa>\u001b[0m in \u001b[0;36m<module>\u001b[0;34m\u001b[0m\n\u001b[1;32m      6\u001b[0m \u001b[0mtiempos\u001b[0m \u001b[0;34m=\u001b[0m \u001b[0;34m[\u001b[0m\u001b[0;34m]\u001b[0m\u001b[0;34m\u001b[0m\u001b[0;34m\u001b[0m\u001b[0m\n\u001b[1;32m      7\u001b[0m \u001b[0;32mfor\u001b[0m \u001b[0mi\u001b[0m \u001b[0;32min\u001b[0m \u001b[0mrange\u001b[0m\u001b[0;34m(\u001b[0m\u001b[0mN\u001b[0m\u001b[0;34m)\u001b[0m\u001b[0;34m:\u001b[0m\u001b[0;34m\u001b[0m\u001b[0;34m\u001b[0m\u001b[0m\n\u001b[0;32m----> 8\u001b[0;31m   \u001b[0mlista\u001b[0m \u001b[0;34m=\u001b[0m \u001b[0mlist\u001b[0m\u001b[0;34m(\u001b[0m\u001b[0mrange\u001b[0m\u001b[0;34m(\u001b[0m\u001b[0mB\u001b[0m \u001b[0;34m*\u001b[0m \u001b[0mi\u001b[0m\u001b[0;34m)\u001b[0m\u001b[0;34m)\u001b[0m\u001b[0;34m\u001b[0m\u001b[0;34m\u001b[0m\u001b[0m\n\u001b[0m\u001b[1;32m      9\u001b[0m   \u001b[0mshuffle\u001b[0m\u001b[0;34m(\u001b[0m\u001b[0mlista\u001b[0m\u001b[0;34m)\u001b[0m\u001b[0;34m\u001b[0m\u001b[0;34m\u001b[0m\u001b[0m\n\u001b[1;32m     10\u001b[0m \u001b[0;34m\u001b[0m\u001b[0m\n",
            "\u001b[0;31mNameError\u001b[0m: name 'B' is not defined"
          ]
        }
      ]
    },
    {
      "cell_type": "code",
      "source": [
        "%%file test_time_graphs.py\n",
        "\n",
        "# Código"
      ],
      "metadata": {
        "id": "L-WV4p1cVFcZ"
      },
      "execution_count": null,
      "outputs": []
    },
    {
      "cell_type": "code",
      "source": [
        "!python -m pytest"
      ],
      "metadata": {
        "id": "nt-TL0byVFca"
      },
      "execution_count": null,
      "outputs": []
    },
    {
      "cell_type": "markdown",
      "source": [
        "#**Ejercicio 9** \n",
        "Realizar un análisis de eficiencia para el algoritmo de ordenamiento por inserción."
      ],
      "metadata": {
        "id": "qYL4rzlBKpA2"
      }
    },
    {
      "cell_type": "code",
      "source": [],
      "metadata": {
        "id": "ONRdqKObbjpu"
      },
      "execution_count": null,
      "outputs": []
    },
    {
      "cell_type": "markdown",
      "source": [
        "#**Ejercico 10** \n",
        "Extienda Quicksort para poder ordenar listas con elementos repetidos. ¿Cuántas comparaciones son necesarias cuando pasamos una lista que tiene siempre el mismo elemento?"
      ],
      "metadata": {
        "id": "B2-uBvvLLd9n"
      }
    },
    {
      "cell_type": "code",
      "source": [
        "import random\n",
        "#Elección caculada\n",
        "\n",
        "\n",
        "#Mejor de 3\n",
        "def elegir_pivot(lista):\n",
        "  if len(lista)>2:\n",
        "    a=[lista[0],lista[1],lista[-1]]\n",
        "    a.remove(min(a))\n",
        "    a.remove(max(a))\n",
        "    return a[0]\n",
        "  else:\n",
        "    return lista[0]\n",
        "  \n",
        "\n",
        "#Elección al azar\n",
        "'''def elegir_pivot(lista):\n",
        "  return random.choice(lista)'''\n",
        "\n",
        "#Elección a ciegas\n",
        "'''def elegir_pivot(lista):\n",
        "  return lista[0] #Elegimos el primer elemento como pivote'''\n",
        "\n",
        "def quicksort(lista):\n",
        "  if len(lista) <2:\n",
        "    return lista #si tiene menos de dos elementos ya esta ordenada\n",
        "\n",
        "  pivot = elegir_pivot(lista)\n",
        "  menores = [x for x in lista if x< pivot]\n",
        "  mayores =[x for x in lista if x> pivot]\n",
        "  iguales =[x for x in lista if x== pivot]\n",
        "\n",
        "  return quicksort(menores) +iguales + quicksort(mayores)\n",
        "\n",
        "l=[1,2,5,4,1,4,6]\n",
        "print(quicksort(l))"
      ],
      "metadata": {
        "id": "jaCv7HVi-BPS",
        "colab": {
          "base_uri": "https://localhost:8080/"
        },
        "outputId": "3e557a13-12c4-40fb-c789-3181a1a6f1c9"
      },
      "execution_count": null,
      "outputs": [
        {
          "output_type": "stream",
          "name": "stdout",
          "text": [
            "[1, 1, 2, 4, 4, 5, 6]\n"
          ]
        }
      ]
    },
    {
      "cell_type": "code",
      "source": [
        "!python -m pytest"
      ],
      "metadata": {
        "id": "7rWeLHD79zym"
      },
      "execution_count": null,
      "outputs": []
    },
    {
      "cell_type": "markdown",
      "source": [
        "#**Ejercicio 11** \n",
        "Dada `A = range(5)` encuentre:\n",
        "\n",
        "a) La peor permutación de la lista para el algoritmo de selección,\n",
        "\n",
        "b) La peor permutación de la lista para el algoritmo de quicksort, para cada posible elección del pivote."
      ],
      "metadata": {
        "id": "__EER_D19kj0"
      }
    },
    {
      "cell_type": "code",
      "source": [],
      "metadata": {
        "id": "62qrKoHeNr2Z"
      },
      "execution_count": null,
      "outputs": []
    }
  ]
}